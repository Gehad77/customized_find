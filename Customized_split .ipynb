{
 "cells": [
  {
   "cell_type": "code",
   "execution_count": 1,
   "metadata": {},
   "outputs": [
    {
     "data": {
      "text/plain": [
       "['hr9whrfqw8rqwh', 'dd8asjfiosahfosa', 'ouhuohui']"
      ]
     },
     "execution_count": 1,
     "metadata": {},
     "output_type": "execute_result"
    }
   ],
   "source": [
    "def customized_find(sentence,character):\n",
    "  return [ i for i , j in list(enumerate(sentence)) if j == character]\n",
    "customized_find('abcabcabc','c')\n",
    "def customized_split(sentence,character):\n",
    "  lst =customized_find(sentence,character)\n",
    "  string=''\n",
    "  final=[]\n",
    "\n",
    "  #lst.remove('b')\n",
    "  string =sentence[:lst[0]]\n",
    "  final.append(string)\n",
    "  for i in range(len(lst)-1):\n",
    "      string =sentence[lst[i]+1:lst[i+1]]\n",
    "      final.append(string)\n",
    "  string =sentence[lst[-1]+1:]\n",
    "  final.append(string)\n",
    "\n",
    "  \n",
    "  return final\n",
    "customized_split('hr9whrfqw8rqwhcdd8asjfiosahfosacouhuohui','c')"
   ]
  },
  {
   "cell_type": "code",
   "execution_count": null,
   "metadata": {},
   "outputs": [],
   "source": []
  }
 ],
 "metadata": {
  "kernelspec": {
   "display_name": "Python 3",
   "language": "python",
   "name": "python3"
  },
  "language_info": {
   "codemirror_mode": {
    "name": "ipython",
    "version": 3
   },
   "file_extension": ".py",
   "mimetype": "text/x-python",
   "name": "python",
   "nbconvert_exporter": "python",
   "pygments_lexer": "ipython3",
   "version": "3.8.3"
  }
 },
 "nbformat": 4,
 "nbformat_minor": 4
}
